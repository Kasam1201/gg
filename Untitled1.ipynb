{
 "cells": [
  {
   "cell_type": "markdown",
   "id": "546254fb-692d-45a1-9144-f49ed844086a",
   "metadata": {},
   "source": [
    "<H1>My Jupyter Notebook on IBM Watson Studio"
   ]
  },
  {
   "cell_type": "markdown",
   "id": "fe74e276-57c8-46b6-a66f-c8a2d2f64aeb",
   "metadata": {},
   "source": [
    "<b> My name is kasim khan </b>"
   ]
  },
  {
   "cell_type": "markdown",
   "id": "25350dd5-eeb4-4524-831d-3e7952f7da6a",
   "metadata": {},
   "source": [
    "<I> I am interested in data science because i would love to contribute towards affordable and quality healthcare in the future </I>"
   ]
  },
  {
   "cell_type": "code",
   "execution_count": 2,
   "id": "fd1f5d74-f723-4baf-b1a4-83844d43de6b",
   "metadata": {},
   "outputs": [
    {
     "name": "stdout",
     "output_type": "stream",
     "text": [
      "hello world\n"
     ]
    }
   ],
   "source": [
    "print(\"hello world\")"
   ]
  },
  {
   "cell_type": "code",
   "execution_count": null,
   "id": "4ad0cb35-f32e-4672-b82f-9d704060af69",
   "metadata": {},
   "outputs": [],
   "source": []
  }
 ],
 "metadata": {
  "kernelspec": {
   "display_name": "Python",
   "language": "python",
   "name": "conda-env-python-py"
  },
  "language_info": {
   "codemirror_mode": {
    "name": "ipython",
    "version": 3
   },
   "file_extension": ".py",
   "mimetype": "text/x-python",
   "name": "python",
   "nbconvert_exporter": "python",
   "pygments_lexer": "ipython3",
   "version": "3.7.12"
  }
 },
 "nbformat": 4,
 "nbformat_minor": 5
}
